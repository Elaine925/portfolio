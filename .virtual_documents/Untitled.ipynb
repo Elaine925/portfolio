def my_stemmer(text):
    clean_text = []
    input_text_sp = text.split()
    for word in input_text_sp:
        if word.endswith("ly") or word.endswith("ed"):
            clean_text.append(word[:-2])
        elif word.endswith("ing"):
            clean_text.append(word[:-3])
        elif len(word) > 8:
            clean_text.append(word[:8])
        else:
            clean_text.append(word)
    return ' '.join(clean_text)



input_text = "he looked knowingly at the sledding"
result = my_stemmer(input_text)
print(result)



